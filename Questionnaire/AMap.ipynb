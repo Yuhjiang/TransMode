{
 "cells": [
  {
   "cell_type": "code",
   "execution_count": 2,
   "metadata": {},
   "outputs": [],
   "source": [
    "key = 'dd6a138c5da8b9a90c80eddbc42662ea'\n",
    "import requests\n",
    "from bs4 import BeautifulSoup\n",
    "import os"
   ]
  },
  {
   "cell_type": "code",
   "execution_count": 6,
   "metadata": {},
   "outputs": [],
   "source": [
    "path = 'http://restapi.amap.com/v3/place/text?keywords=浙江大学紫金港校区翠柏&city=hangzhou&output=xml&offset=1&page=1&key=dd6a138c5da8b9a90c80eddbc42662ea&extensions=all'"
   ]
  },
  {
   "cell_type": "code",
   "execution_count": 7,
   "metadata": {},
   "outputs": [],
   "source": [
    "headers = {'User-Agent':\"Mozilla/5.0 (Windows NT 6.1; WOW64) AppleWebKit/537.1 (KHTML, like Gecko) Chrome/22.0.1207.1 Safari/537.1\"}\n",
    "url = path\n",
    "html = requests.get(url, headers=headers)"
   ]
  },
  {
   "cell_type": "code",
   "execution_count": 8,
   "metadata": {},
   "outputs": [
    {
     "name": "stdout",
     "output_type": "stream",
     "text": [
      "<?xml version=\"1.0\" encoding=\"UTF-8\"?>\n",
      "<response><status>1</status><count>7</count><info>OK</info><infocode>10000</infocode><suggestion><keywords type=\"list\"/><cities type=\"list\"/></suggestion><pois type=\"list\"><poi><id>B0FFFDBGN8</id><name>翠柏1舍</name><tag></tag><type>商务住宅;住宅区;宿舍</type><typecode>120303</typecode><biz_type></biz_type><address>浙大紫金港校区</address><location>120.086325,30.309228</location><tel></tel><postcode></postcode><website></website><email></email><pcode>330000</pcode><pname>浙江省</pname><citycode>0571</citycode><cityname>杭州市</cityname><adcode>330106</adcode><adname>西湖区</adname><importance></importance><shopid></shopid><shopinfo>0</shopinfo><poiweight></poiweight><gridcode>4520307602</gridcode><distance></distance><navi_poiid>H51F021001_90949</navi_poiid><entr_location></entr_location><business_area></business_area><exit_location></exit_location><match>0</match><recommend>3</recommend><timestamp></timestamp><alias></alias><indoor_map>0</indoor_map><indoor_data><cpid></cpid><floor></floor><truefloor></truefloor><cmsid></cmsid></indoor_data><groupbuy_num>0</groupbuy_num><discount_num>0</discount_num><biz_ext><rating></rating><cost></cost></biz_ext><event/><children type=\"list\"/><photos type=\"list\"/></poi></pois></response>\n"
     ]
    }
   ],
   "source": [
    "print(html.text)"
   ]
  },
  {
   "cell_type": "code",
   "execution_count": 12,
   "metadata": {},
   "outputs": [
    {
     "name": "stdout",
     "output_type": "stream",
     "text": [
      "120.086325,30.309228\n"
     ]
    }
   ],
   "source": [
    "gps = html.text.split('<location>')[1].split('</location>')[0]\n",
    "print(gps)"
   ]
  },
  {
   "cell_type": "code",
   "execution_count": null,
   "metadata": {},
   "outputs": [],
   "source": []
  }
 ],
 "metadata": {
  "kernelspec": {
   "display_name": "Python 3",
   "language": "python",
   "name": "python3"
  },
  "language_info": {
   "codemirror_mode": {
    "name": "ipython",
    "version": 3
   },
   "file_extension": ".py",
   "mimetype": "text/x-python",
   "name": "python",
   "nbconvert_exporter": "python",
   "pygments_lexer": "ipython3",
   "version": "3.6.4"
  }
 },
 "nbformat": 4,
 "nbformat_minor": 2
}
