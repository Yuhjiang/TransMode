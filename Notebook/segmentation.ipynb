{
 "cells": [
  {
   "cell_type": "code",
   "execution_count": 1,
   "metadata": {},
   "outputs": [],
   "source": [
    "%matplotlib inline"
   ]
  },
  {
   "cell_type": "code",
   "execution_count": 2,
   "metadata": {},
   "outputs": [],
   "source": [
    "import pandas as pd\n",
    "import numpy as np\n",
    "import smopy\n",
    "import matplotlib.pyplot as plt\n",
    "from scipy import ndimage"
   ]
  },
  {
   "cell_type": "code",
   "execution_count": 9,
   "metadata": {},
   "outputs": [
    {
     "data": {
      "text/html": [
       "<div>\n",
       "<style>\n",
       "    .dataframe thead tr:only-child th {\n",
       "        text-align: right;\n",
       "    }\n",
       "\n",
       "    .dataframe thead th {\n",
       "        text-align: left;\n",
       "    }\n",
       "\n",
       "    .dataframe tbody tr th {\n",
       "        vertical-align: top;\n",
       "    }\n",
       "</style>\n",
       "<table border=\"1\" class=\"dataframe\">\n",
       "  <thead>\n",
       "    <tr style=\"text-align: right;\">\n",
       "      <th></th>\n",
       "      <th>segment_ID</th>\n",
       "      <th>trans_mode</th>\n",
       "      <th>former_trans_mode</th>\n",
       "      <th>latitude</th>\n",
       "      <th>longitude</th>\n",
       "      <th>date</th>\n",
       "      <th>time</th>\n",
       "    </tr>\n",
       "  </thead>\n",
       "  <tbody>\n",
       "    <tr>\n",
       "      <th>0</th>\n",
       "      <td>Data\\085_20081211234130_bus</td>\n",
       "      <td>bus</td>\n",
       "      <td>None</td>\n",
       "      <td>39.897337</td>\n",
       "      <td>116.343463</td>\n",
       "      <td>2008-12-11</td>\n",
       "      <td>23:41:30</td>\n",
       "    </tr>\n",
       "    <tr>\n",
       "      <th>1</th>\n",
       "      <td>Data\\085_20081211234130_bus</td>\n",
       "      <td>bus</td>\n",
       "      <td>None</td>\n",
       "      <td>39.898386</td>\n",
       "      <td>116.343125</td>\n",
       "      <td>2008-12-11</td>\n",
       "      <td>23:41:32</td>\n",
       "    </tr>\n",
       "    <tr>\n",
       "      <th>2</th>\n",
       "      <td>Data\\085_20081211234130_bus</td>\n",
       "      <td>bus</td>\n",
       "      <td>None</td>\n",
       "      <td>39.898262</td>\n",
       "      <td>116.343126</td>\n",
       "      <td>2008-12-11</td>\n",
       "      <td>23:41:34</td>\n",
       "    </tr>\n",
       "    <tr>\n",
       "      <th>3</th>\n",
       "      <td>Data\\085_20081211234130_bus</td>\n",
       "      <td>bus</td>\n",
       "      <td>None</td>\n",
       "      <td>39.898269</td>\n",
       "      <td>116.343146</td>\n",
       "      <td>2008-12-11</td>\n",
       "      <td>23:41:36</td>\n",
       "    </tr>\n",
       "    <tr>\n",
       "      <th>4</th>\n",
       "      <td>Data\\085_20081211234130_bus</td>\n",
       "      <td>bus</td>\n",
       "      <td>None</td>\n",
       "      <td>39.898273</td>\n",
       "      <td>116.343155</td>\n",
       "      <td>2008-12-11</td>\n",
       "      <td>23:41:38</td>\n",
       "    </tr>\n",
       "  </tbody>\n",
       "</table>\n",
       "</div>"
      ],
      "text/plain": [
       "                    segment_ID trans_mode former_trans_mode   latitude  \\\n",
       "0  Data\\085_20081211234130_bus        bus              None  39.897337   \n",
       "1  Data\\085_20081211234130_bus        bus              None  39.898386   \n",
       "2  Data\\085_20081211234130_bus        bus              None  39.898262   \n",
       "3  Data\\085_20081211234130_bus        bus              None  39.898269   \n",
       "4  Data\\085_20081211234130_bus        bus              None  39.898273   \n",
       "\n",
       "    longitude        date      time  \n",
       "0  116.343463  2008-12-11  23:41:30  \n",
       "1  116.343125  2008-12-11  23:41:32  \n",
       "2  116.343126  2008-12-11  23:41:34  \n",
       "3  116.343146  2008-12-11  23:41:36  \n",
       "4  116.343155  2008-12-11  23:41:38  "
      ]
     },
     "execution_count": 9,
     "metadata": {},
     "output_type": "execute_result"
    }
   ],
   "source": [
    "file_path = r'test.csv'\n",
    "gps = pd.read_csv(file_path)\n",
    "gps.head()"
   ]
  },
  {
   "cell_type": "code",
   "execution_count": 11,
   "metadata": {},
   "outputs": [],
   "source": [
    "x = gps['latitude']\n",
    "y = gps['longitude']"
   ]
  },
  {
   "cell_type": "code",
   "execution_count": 12,
   "metadata": {},
   "outputs": [
    {
     "data": {
      "image/png": "[encoded data removed]",
      "text/plain": [
       "<matplotlib.figure.Figure at 0x1fc41fa04a8>"
      ]
     },
     "metadata": {},
     "output_type": "display_data"
    }
   ],
   "source": [
    "plt.plot(x, y, 'ro')\n",
    "plt.show()"
   ]
  },
  {
   "cell_type": "code",
   "execution_count": 7,
   "metadata": {
    "collapsed": true
   },
   "outputs": [],
   "source": [
    "import datetime as dt"
   ]
  },
  {
   "cell_type": "code",
   "execution_count": 14,
   "metadata": {
    "collapsed": true
   },
   "outputs": [],
   "source": [
    "# 计算时间戳\n",
    "def calc_timestamp(date_time):\n",
    "    datetime = dt.datetime.strptime(date_time, '%Y-%m-%d %H:%M:%S')\n",
    "    timestamp = datetime - dt.datetime(1970, 1, 1)\n",
    "    return timestamp.total_seconds()"
   ]
  },
  {
   "cell_type": "code",
   "execution_count": 15,
   "metadata": {
    "collapsed": true
   },
   "outputs": [],
   "source": [
    "timestamp = list(map(calc_timestamp, gps['date'] + ' ' + gps['time']))\n",
    "gps['timestamp'] = timestamp"
   ]
  },
  {
   "cell_type": "code",
   "execution_count": 16,
   "metadata": {},
   "outputs": [
    {
     "data": {
      "text/html": [
       "<div>\n",
       "<style>\n",
       "    .dataframe thead tr:only-child th {\n",
       "        text-align: right;\n",
       "    }\n",
       "\n",
       "    .dataframe thead th {\n",
       "        text-align: left;\n",
       "    }\n",
       "\n",
       "    .dataframe tbody tr th {\n",
       "        vertical-align: top;\n",
       "    }\n",
       "</style>\n",
       "<table border=\"1\" class=\"dataframe\">\n",
       "  <thead>\n",
       "    <tr style=\"text-align: right;\">\n",
       "      <th></th>\n",
       "      <th>segment_ID</th>\n",
       "      <th>trans_mode</th>\n",
       "      <th>former_trans_mode</th>\n",
       "      <th>latitude</th>\n",
       "      <th>longitude</th>\n",
       "      <th>date</th>\n",
       "      <th>time</th>\n",
       "      <th>timestamp</th>\n",
       "    </tr>\n",
       "  </thead>\n",
       "  <tbody>\n",
       "    <tr>\n",
       "      <th>0</th>\n",
       "      <td>Data\\085_20081211234130_bus</td>\n",
       "      <td>bus</td>\n",
       "      <td>None</td>\n",
       "      <td>39.897337</td>\n",
       "      <td>116.343463</td>\n",
       "      <td>2008-12-11</td>\n",
       "      <td>23:41:30</td>\n",
       "      <td>1.229039e+09</td>\n",
       "    </tr>\n",
       "    <tr>\n",
       "      <th>1</th>\n",
       "      <td>Data\\085_20081211234130_bus</td>\n",
       "      <td>bus</td>\n",
       "      <td>None</td>\n",
       "      <td>39.898386</td>\n",
       "      <td>116.343125</td>\n",
       "      <td>2008-12-11</td>\n",
       "      <td>23:41:32</td>\n",
       "      <td>1.229039e+09</td>\n",
       "    </tr>\n",
       "    <tr>\n",
       "      <th>2</th>\n",
       "      <td>Data\\085_20081211234130_bus</td>\n",
       "      <td>bus</td>\n",
       "      <td>None</td>\n",
       "      <td>39.898262</td>\n",
       "      <td>116.343126</td>\n",
       "      <td>2008-12-11</td>\n",
       "      <td>23:41:34</td>\n",
       "      <td>1.229039e+09</td>\n",
       "    </tr>\n",
       "    <tr>\n",
       "      <th>3</th>\n",
       "      <td>Data\\085_20081211234130_bus</td>\n",
       "      <td>bus</td>\n",
       "      <td>None</td>\n",
       "      <td>39.898269</td>\n",
       "      <td>116.343146</td>\n",
       "      <td>2008-12-11</td>\n",
       "      <td>23:41:36</td>\n",
       "      <td>1.229039e+09</td>\n",
       "    </tr>\n",
       "    <tr>\n",
       "      <th>4</th>\n",
       "      <td>Data\\085_20081211234130_bus</td>\n",
       "      <td>bus</td>\n",
       "      <td>None</td>\n",
       "      <td>39.898273</td>\n",
       "      <td>116.343155</td>\n",
       "      <td>2008-12-11</td>\n",
       "      <td>23:41:38</td>\n",
       "      <td>1.229039e+09</td>\n",
       "    </tr>\n",
       "  </tbody>\n",
       "</table>\n",
       "</div>"
      ],
      "text/plain": [
       "                    segment_ID trans_mode former_trans_mode   latitude  \\\n",
       "0  Data\\085_20081211234130_bus        bus              None  39.897337   \n",
       "1  Data\\085_20081211234130_bus        bus              None  39.898386   \n",
       "2  Data\\085_20081211234130_bus        bus              None  39.898262   \n",
       "3  Data\\085_20081211234130_bus        bus              None  39.898269   \n",
       "4  Data\\085_20081211234130_bus        bus              None  39.898273   \n",
       "\n",
       "    longitude        date      time     timestamp  \n",
       "0  116.343463  2008-12-11  23:41:30  1.229039e+09  \n",
       "1  116.343125  2008-12-11  23:41:32  1.229039e+09  \n",
       "2  116.343126  2008-12-11  23:41:34  1.229039e+09  \n",
       "3  116.343146  2008-12-11  23:41:36  1.229039e+09  \n",
       "4  116.343155  2008-12-11  23:41:38  1.229039e+09  "
      ]
     },
     "execution_count": 16,
     "metadata": {},
     "output_type": "execute_result"
    }
   ],
   "source": [
    "gps.head()"
   ]
  },
  {
   "cell_type": "code",
   "execution_count": 17,
   "metadata": {
    "collapsed": true
   },
   "outputs": [],
   "source": [
    "all_gps = pd.read_csv('D:\\Zhejiang University\\Graduate Project\\TransMode\\Data\\segment_master.csv')"
   ]
  },
  {
   "cell_type": "code",
   "execution_count": 18,
   "metadata": {},
   "outputs": [
    {
     "data": {
      "text/html": [
       "<div>\n",
       "<style>\n",
       "    .dataframe thead tr:only-child th {\n",
       "        text-align: right;\n",
       "    }\n",
       "\n",
       "    .dataframe thead th {\n",
       "        text-align: left;\n",
       "    }\n",
       "\n",
       "    .dataframe tbody tr th {\n",
       "        vertical-align: top;\n",
       "    }\n",
       "</style>\n",
       "<table border=\"1\" class=\"dataframe\">\n",
       "  <thead>\n",
       "    <tr style=\"text-align: right;\">\n",
       "      <th></th>\n",
       "      <th>segment_ID</th>\n",
       "      <th>trans_mode</th>\n",
       "      <th>latitude</th>\n",
       "      <th>longitude</th>\n",
       "      <th>date</th>\n",
       "      <th>time</th>\n",
       "      <th>former_trans_mode</th>\n",
       "      <th>time_stamp</th>\n",
       "      <th>time_delta</th>\n",
       "      <th>distance_delta</th>\n",
       "      <th>velocity</th>\n",
       "      <th>velocity_ratio</th>\n",
       "      <th>acceleration</th>\n",
       "      <th>acceleration_ratio</th>\n",
       "      <th>bearing_delta</th>\n",
       "      <th>bearing_delta_redirect</th>\n",
       "    </tr>\n",
       "  </thead>\n",
       "  <tbody>\n",
       "    <tr>\n",
       "      <th>0</th>\n",
       "      <td>Data\\010_20080328145254_train</td>\n",
       "      <td>train</td>\n",
       "      <td>39.894178</td>\n",
       "      <td>116.318200</td>\n",
       "      <td>2008-03-28</td>\n",
       "      <td>14:54:40</td>\n",
       "      <td>None</td>\n",
       "      <td>1.206716e+09</td>\n",
       "      <td>0.0</td>\n",
       "      <td>0.000000</td>\n",
       "      <td>0.000000</td>\n",
       "      <td>0.000000</td>\n",
       "      <td>0.000000</td>\n",
       "      <td>0.000000</td>\n",
       "      <td>0.000000</td>\n",
       "      <td>0.000000</td>\n",
       "    </tr>\n",
       "    <tr>\n",
       "      <th>1</th>\n",
       "      <td>Data\\010_20080328145254_train</td>\n",
       "      <td>train</td>\n",
       "      <td>39.894505</td>\n",
       "      <td>116.321132</td>\n",
       "      <td>2008-03-28</td>\n",
       "      <td>14:55:14</td>\n",
       "      <td>None</td>\n",
       "      <td>1.206716e+09</td>\n",
       "      <td>34.0</td>\n",
       "      <td>253.375122</td>\n",
       "      <td>7.452209</td>\n",
       "      <td>0.000000</td>\n",
       "      <td>0.219183</td>\n",
       "      <td>0.000000</td>\n",
       "      <td>81.728206</td>\n",
       "      <td>0.000000</td>\n",
       "    </tr>\n",
       "    <tr>\n",
       "      <th>2</th>\n",
       "      <td>Data\\010_20080328145254_train</td>\n",
       "      <td>train</td>\n",
       "      <td>39.894953</td>\n",
       "      <td>116.326452</td>\n",
       "      <td>2008-03-28</td>\n",
       "      <td>14:56:13</td>\n",
       "      <td>None</td>\n",
       "      <td>1.206716e+09</td>\n",
       "      <td>59.0</td>\n",
       "      <td>457.703184</td>\n",
       "      <td>7.757681</td>\n",
       "      <td>0.040991</td>\n",
       "      <td>0.005177</td>\n",
       "      <td>0.976378</td>\n",
       "      <td>83.734582</td>\n",
       "      <td>2.006376</td>\n",
       "    </tr>\n",
       "    <tr>\n",
       "      <th>3</th>\n",
       "      <td>Data\\010_20080328145254_train</td>\n",
       "      <td>train</td>\n",
       "      <td>39.894600</td>\n",
       "      <td>116.332542</td>\n",
       "      <td>2008-03-28</td>\n",
       "      <td>14:57:12</td>\n",
       "      <td>None</td>\n",
       "      <td>1.206716e+09</td>\n",
       "      <td>59.0</td>\n",
       "      <td>522.318587</td>\n",
       "      <td>8.852857</td>\n",
       "      <td>0.141173</td>\n",
       "      <td>0.018562</td>\n",
       "      <td>2.585198</td>\n",
       "      <td>94.318545</td>\n",
       "      <td>10.583963</td>\n",
       "    </tr>\n",
       "    <tr>\n",
       "      <th>4</th>\n",
       "      <td>Data\\010_20080328145254_train</td>\n",
       "      <td>train</td>\n",
       "      <td>39.889622</td>\n",
       "      <td>116.337040</td>\n",
       "      <td>2008-03-28</td>\n",
       "      <td>14:58:11</td>\n",
       "      <td>None</td>\n",
       "      <td>1.206716e+09</td>\n",
       "      <td>59.0</td>\n",
       "      <td>673.422397</td>\n",
       "      <td>11.413939</td>\n",
       "      <td>0.289294</td>\n",
       "      <td>0.043408</td>\n",
       "      <td>1.338511</td>\n",
       "      <td>145.266086</td>\n",
       "      <td>50.947541</td>\n",
       "    </tr>\n",
       "  </tbody>\n",
       "</table>\n",
       "</div>"
      ],
      "text/plain": [
       "                      segment_ID trans_mode   latitude   longitude  \\\n",
       "0  Data\\010_20080328145254_train      train  39.894178  116.318200   \n",
       "1  Data\\010_20080328145254_train      train  39.894505  116.321132   \n",
       "2  Data\\010_20080328145254_train      train  39.894953  116.326452   \n",
       "3  Data\\010_20080328145254_train      train  39.894600  116.332542   \n",
       "4  Data\\010_20080328145254_train      train  39.889622  116.337040   \n",
       "\n",
       "         date      time former_trans_mode    time_stamp  time_delta  \\\n",
       "0  2008-03-28  14:54:40              None  1.206716e+09         0.0   \n",
       "1  2008-03-28  14:55:14              None  1.206716e+09        34.0   \n",
       "2  2008-03-28  14:56:13              None  1.206716e+09        59.0   \n",
       "3  2008-03-28  14:57:12              None  1.206716e+09        59.0   \n",
       "4  2008-03-28  14:58:11              None  1.206716e+09        59.0   \n",
       "\n",
       "   distance_delta   velocity  velocity_ratio  acceleration  \\\n",
       "0        0.000000   0.000000        0.000000      0.000000   \n",
       "1      253.375122   7.452209        0.000000      0.219183   \n",
       "2      457.703184   7.757681        0.040991      0.005177   \n",
       "3      522.318587   8.852857        0.141173      0.018562   \n",
       "4      673.422397  11.413939        0.289294      0.043408   \n",
       "\n",
       "   acceleration_ratio  bearing_delta  bearing_delta_redirect  \n",
       "0            0.000000       0.000000                0.000000  \n",
       "1            0.000000      81.728206                0.000000  \n",
       "2            0.976378      83.734582                2.006376  \n",
       "3            2.585198      94.318545               10.583963  \n",
       "4            1.338511     145.266086               50.947541  "
      ]
     },
     "execution_count": 18,
     "metadata": {},
     "output_type": "execute_result"
    }
   ],
   "source": [
    "all_gps.head()"
   ]
  },
  {
   "cell_type": "code",
   "execution_count": 19,
   "metadata": {},
   "outputs": [
    {
     "data": {
      "text/plain": [
       "<matplotlib.axes._subplots.AxesSubplot at 0x1fc5525dc88>"
      ]
     },
     "execution_count": 19,
     "metadata": {},
     "output_type": "execute_result"
    },
    {
     "data": {
      "image/png": "[encoded data removed]",
      "text/plain": [
       "<matplotlib.figure.Figure at 0x1fc5525d358>"
      ]
     },
     "metadata": {},
     "output_type": "display_data"
    }
   ],
   "source": [
    "all_gps['trans_mode'].value_counts().plot(kind='bar')"
   ]
  },
  {
   "cell_type": "code",
   "execution_count": 25,
   "metadata": {},
   "outputs": [],
   "source": [
    "# 剔除train, subway, airplane, boat, run, motorcycle\n",
    "all_gps = all_gps[all_gps.trans_mode != 'train']\n",
    "all_gps = all_gps[all_gps.trans_mode != 'subway']\n",
    "all_gps = all_gps[all_gps.trans_mode != 'airplane']\n",
    "all_gps = all_gps[all_gps.trans_mode != 'boat']\n",
    "all_gps = all_gps[all_gps.trans_mode != 'run']\n",
    "all_gps = all_gps[all_gps.trans_mode != 'motorcycle']"
   ]
  },
  {
   "cell_type": "code",
   "execution_count": 26,
   "metadata": {},
   "outputs": [
    {
     "data": {
      "text/plain": [
       "<matplotlib.axes._subplots.AxesSubplot at 0x1fc02907b38>"
      ]
     },
     "execution_count": 26,
     "metadata": {},
     "output_type": "execute_result"
    },
    {
     "data": {
      "image/png": "[encoded data removed]",
      "text/plain": [
       "<matplotlib.figure.Figure at 0x1fc028dff28>"
      ]
     },
     "metadata": {},
     "output_type": "display_data"
    }
   ],
   "source": [
    "all_gps.trans_mode.value_counts().plot(kind='bar')"
   ]
  },
  {
   "cell_type": "code",
   "execution_count": 27,
   "metadata": {},
   "outputs": [
    {
     "name": "stdout",
     "output_type": "stream",
     "text": [
      "walk    1544340\n",
      "bus     1251725\n",
      "bike     913027\n",
      "car      471072\n",
      "taxi     228172\n",
      "Name: trans_mode, dtype: int64\n"
     ]
    }
   ],
   "source": [
    "print(all_gps.trans_mode.value_counts())"
   ]
  },
  {
   "cell_type": "code",
   "execution_count": 59,
   "metadata": {},
   "outputs": [
    {
     "data": {
      "text/plain": [
       "count    1.307726e+06\n",
       "mean     8.233387e-01\n",
       "std      5.689196e-01\n",
       "min      0.000000e+00\n",
       "25%      2.820949e-01\n",
       "50%      8.183919e-01\n",
       "75%      1.287398e+00\n",
       "max      1.999993e+00\n",
       "Name: velocity, dtype: float64"
      ]
     },
     "execution_count": 59,
     "metadata": {},
     "output_type": "execute_result"
    }
   ],
   "source": [
    "data_walk = all_gps.velocity[all_gps.trans_mode == 'walk']\n",
    "data_walk = data_walk[data_walk >= 0]\n",
    "data_walk = data_walk[data_walk <= 2]\n",
    "data_walk.describe()"
   ]
  },
  {
   "cell_type": "code",
   "execution_count": 79,
   "metadata": {
    "scrolled": true
   },
   "outputs": [
    {
     "data": {
      "image/png": "[encoded data removed]",
      "text/plain": [
       "<matplotlib.figure.Figure at 0x1fc02d3d080>"
      ]
     },
     "metadata": {},
     "output_type": "display_data"
    }
   ],
   "source": [
    "num_bins = 10\n",
    "n, bins, patches = plt.hist(data_walk, num_bins, normed=1, facecolor='green',edgecolor='black', alpha=0.5)"
   ]
  },
  {
   "cell_type": "code",
   "execution_count": 94,
   "metadata": {},
   "outputs": [],
   "source": [
    "n, bins = np.histogram(data_walk, normed=1, bins=10)"
   ]
  },
  {
   "cell_type": "code",
   "execution_count": 95,
   "metadata": {},
   "outputs": [],
   "source": [
    "x = (bins[:bins.size-1] + bins[1:]) / 2 \n",
    "y = n * (bins[1]-bins[0])"
   ]
  },
  {
   "cell_type": "code",
   "execution_count": 96,
   "metadata": {},
   "outputs": [
    {
     "data": {
      "text/plain": [
       "1.0"
      ]
     },
     "execution_count": 96,
     "metadata": {},
     "output_type": "execute_result"
    }
   ],
   "source": [
    "y.sum()"
   ]
  },
  {
   "cell_type": "code",
   "execution_count": 97,
   "metadata": {},
   "outputs": [
    {
     "data": {
      "image/png": "[encoded data removed]",
      "text/plain": [
       "<matplotlib.figure.Figure at 0x1fc43fa2208>"
      ]
     },
     "metadata": {},
     "output_type": "display_data"
    }
   ],
   "source": [
    "plt.plot(x, y, 'ro-')\n",
    "plt.show()"
   ]
  },
  {
   "cell_type": "code",
   "execution_count": null,
   "metadata": {
    "collapsed": true
   },
   "outputs": [],
   "source": []
  }
 ],
 "metadata": {
  "kernelspec": {
   "display_name": "Python 3",
   "language": "python",
   "name": "python3"
  },
  "language_info": {
   "codemirror_mode": {
    "name": "ipython",
    "version": 3
   },
   "file_extension": ".py",
   "mimetype": "text/x-python",
   "name": "python",
   "nbconvert_exporter": "python",
   "pygments_lexer": "ipython3",
   "version": "3.6.4"
  }
 },
 "nbformat": 4,
 "nbformat_minor": 2
}
