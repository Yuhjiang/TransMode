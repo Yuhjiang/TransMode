{
 "cells": [
  {
   "cell_type": "code",
   "execution_count": 2,
   "metadata": {
    "collapsed": true
   },
   "outputs": [],
   "source": [
    "import pandas as pd\n",
    "import numpy as np\n",
    "import datetime as dt\n",
    "import os"
   ]
  },
  {
   "cell_type": "code",
   "execution_count": 3,
   "metadata": {},
   "outputs": [
    {
     "data": {
      "text/html": [
       "<div>\n",
       "<style>\n",
       "    .dataframe thead tr:only-child th {\n",
       "        text-align: right;\n",
       "    }\n",
       "\n",
       "    .dataframe thead th {\n",
       "        text-align: left;\n",
       "    }\n",
       "\n",
       "    .dataframe tbody tr th {\n",
       "        vertical-align: top;\n",
       "    }\n",
       "</style>\n",
       "<table border=\"1\" class=\"dataframe\">\n",
       "  <thead>\n",
       "    <tr style=\"text-align: right;\">\n",
       "      <th></th>\n",
       "      <th>segment_ID</th>\n",
       "      <th>trans_mode</th>\n",
       "      <th>former_trans_mode</th>\n",
       "      <th>latitude</th>\n",
       "      <th>longitude</th>\n",
       "      <th>date</th>\n",
       "      <th>time</th>\n",
       "    </tr>\n",
       "  </thead>\n",
       "  <tbody>\n",
       "    <tr>\n",
       "      <th>0</th>\n",
       "      <td>Data\\085_20081211234130_bus</td>\n",
       "      <td>bus</td>\n",
       "      <td>None</td>\n",
       "      <td>39.897337</td>\n",
       "      <td>116.343463</td>\n",
       "      <td>2008-12-11</td>\n",
       "      <td>23:41:30</td>\n",
       "    </tr>\n",
       "    <tr>\n",
       "      <th>1</th>\n",
       "      <td>Data\\085_20081211234130_bus</td>\n",
       "      <td>bus</td>\n",
       "      <td>None</td>\n",
       "      <td>39.898386</td>\n",
       "      <td>116.343125</td>\n",
       "      <td>2008-12-11</td>\n",
       "      <td>23:41:32</td>\n",
       "    </tr>\n",
       "    <tr>\n",
       "      <th>2</th>\n",
       "      <td>Data\\085_20081211234130_bus</td>\n",
       "      <td>bus</td>\n",
       "      <td>None</td>\n",
       "      <td>39.898262</td>\n",
       "      <td>116.343126</td>\n",
       "      <td>2008-12-11</td>\n",
       "      <td>23:41:34</td>\n",
       "    </tr>\n",
       "    <tr>\n",
       "      <th>3</th>\n",
       "      <td>Data\\085_20081211234130_bus</td>\n",
       "      <td>bus</td>\n",
       "      <td>None</td>\n",
       "      <td>39.898269</td>\n",
       "      <td>116.343146</td>\n",
       "      <td>2008-12-11</td>\n",
       "      <td>23:41:36</td>\n",
       "    </tr>\n",
       "    <tr>\n",
       "      <th>4</th>\n",
       "      <td>Data\\085_20081211234130_bus</td>\n",
       "      <td>bus</td>\n",
       "      <td>None</td>\n",
       "      <td>39.898273</td>\n",
       "      <td>116.343155</td>\n",
       "      <td>2008-12-11</td>\n",
       "      <td>23:41:38</td>\n",
       "    </tr>\n",
       "  </tbody>\n",
       "</table>\n",
       "</div>"
      ],
      "text/plain": [
       "                    segment_ID trans_mode former_trans_mode   latitude  \\\n",
       "0  Data\\085_20081211234130_bus        bus              None  39.897337   \n",
       "1  Data\\085_20081211234130_bus        bus              None  39.898386   \n",
       "2  Data\\085_20081211234130_bus        bus              None  39.898262   \n",
       "3  Data\\085_20081211234130_bus        bus              None  39.898269   \n",
       "4  Data\\085_20081211234130_bus        bus              None  39.898273   \n",
       "\n",
       "    longitude        date      time  \n",
       "0  116.343463  2008-12-11  23:41:30  \n",
       "1  116.343125  2008-12-11  23:41:32  \n",
       "2  116.343126  2008-12-11  23:41:34  \n",
       "3  116.343146  2008-12-11  23:41:36  \n",
       "4  116.343155  2008-12-11  23:41:38  "
      ]
     },
     "execution_count": 3,
     "metadata": {},
     "output_type": "execute_result"
    }
   ],
   "source": [
    "data = pd.read_csv('test.csv')\n",
    "data.head()"
   ]
  },
  {
   "cell_type": "code",
   "execution_count": null,
   "metadata": {
    "collapsed": true
   },
   "outputs": [],
   "source": []
  }
 ],
 "metadata": {
  "kernelspec": {
   "display_name": "Python 3",
   "language": "python",
   "name": "python3"
  },
  "language_info": {
   "codemirror_mode": {
    "name": "ipython",
    "version": 3
   },
   "file_extension": ".py",
   "mimetype": "text/x-python",
   "name": "python",
   "nbconvert_exporter": "python",
   "pygments_lexer": "ipython3",
   "version": "3.6.4"
  }
 },
 "nbformat": 4,
 "nbformat_minor": 2
}
