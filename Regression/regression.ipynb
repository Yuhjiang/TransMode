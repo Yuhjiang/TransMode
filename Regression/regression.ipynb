{
 "cells": [
  {
   "cell_type": "markdown",
   "metadata": {
    "collapsed": true
   },
   "source": [
    "# 回归分析"
   ]
  },
  {
   "cell_type": "code",
   "execution_count": 118,
   "metadata": {},
   "outputs": [],
   "source": [
    "import pandas as pd\n",
    "import numpy as np\n",
    "# 线性回归\n",
    "from sklearn.linear_model import LogisticRegression\n",
    "import matplotlib.pyplot as plt\n",
    "import seaborn as sns\n",
    "sns.set(style='whitegrid', font='simhei')\n",
    "from sklearn import preprocessing\n",
    "from sklearn.model_selection import train_test_split\n",
    "from sklearn.preprocessing import StandardScaler"
   ]
  },
  {
   "cell_type": "code",
   "execution_count": 51,
   "metadata": {},
   "outputs": [
    {
     "data": {
      "text/html": [
       "<div>\n",
       "<style scoped>\n",
       "    .dataframe tbody tr th:only-of-type {\n",
       "        vertical-align: middle;\n",
       "    }\n",
       "\n",
       "    .dataframe tbody tr th {\n",
       "        vertical-align: top;\n",
       "    }\n",
       "\n",
       "    .dataframe thead th {\n",
       "        text-align: right;\n",
       "    }\n",
       "</style>\n",
       "<table border=\"1\" class=\"dataframe\">\n",
       "  <thead>\n",
       "    <tr style=\"text-align: right;\">\n",
       "      <th></th>\n",
       "      <th>Unnamed: 0</th>\n",
       "      <th>用户ID</th>\n",
       "      <th>星期</th>\n",
       "      <th>日期</th>\n",
       "      <th>Trip_ID</th>\n",
       "      <th>出行目的</th>\n",
       "      <th>第几次出行</th>\n",
       "      <th>出发地点</th>\n",
       "      <th>到达地点</th>\n",
       "      <th>出发时间</th>\n",
       "      <th>...</th>\n",
       "      <th>性别</th>\n",
       "      <th>年龄</th>\n",
       "      <th>宿舍区</th>\n",
       "      <th>年级</th>\n",
       "      <th>专业大类</th>\n",
       "      <th>自行车保有</th>\n",
       "      <th>电动车保有</th>\n",
       "      <th>汽车保有</th>\n",
       "      <th>校内主要出行方式</th>\n",
       "      <th>校外主要出行方式</th>\n",
       "    </tr>\n",
       "  </thead>\n",
       "  <tbody>\n",
       "    <tr>\n",
       "      <th>0</th>\n",
       "      <td>0</td>\n",
       "      <td>04D0BF86-23A4-498C-8DAD-1984B238772C</td>\n",
       "      <td>Thu</td>\n",
       "      <td>2018/04/17</td>\n",
       "      <td>04D0BF86-23A4-498C-8DAD-1984B238772C0001</td>\n",
       "      <td>4</td>\n",
       "      <td>1</td>\n",
       "      <td>翠柏二舍</td>\n",
       "      <td>安中大楼B</td>\n",
       "      <td>7:40</td>\n",
       "      <td>...</td>\n",
       "      <td>1</td>\n",
       "      <td>23</td>\n",
       "      <td>4</td>\n",
       "      <td>6</td>\n",
       "      <td>土木工程</td>\n",
       "      <td>2</td>\n",
       "      <td>2</td>\n",
       "      <td>2</td>\n",
       "      <td>1-2</td>\n",
       "      <td>1-2-7-8-9</td>\n",
       "    </tr>\n",
       "    <tr>\n",
       "      <th>1</th>\n",
       "      <td>1</td>\n",
       "      <td>04D0BF86-23A4-498C-8DAD-1984B238772C</td>\n",
       "      <td>Thu</td>\n",
       "      <td>2018/04/17</td>\n",
       "      <td>04D0BF86-23A4-498C-8DAD-1984B238772C0002</td>\n",
       "      <td>3</td>\n",
       "      <td>2</td>\n",
       "      <td>安中大楼B</td>\n",
       "      <td>风味食堂</td>\n",
       "      <td>11:15</td>\n",
       "      <td>...</td>\n",
       "      <td>1</td>\n",
       "      <td>23</td>\n",
       "      <td>4</td>\n",
       "      <td>6</td>\n",
       "      <td>土木工程</td>\n",
       "      <td>2</td>\n",
       "      <td>2</td>\n",
       "      <td>2</td>\n",
       "      <td>1-2</td>\n",
       "      <td>1-2-7-8-9</td>\n",
       "    </tr>\n",
       "    <tr>\n",
       "      <th>2</th>\n",
       "      <td>2</td>\n",
       "      <td>04D0BF86-23A4-498C-8DAD-1984B238772C</td>\n",
       "      <td>Thu</td>\n",
       "      <td>2018/04/17</td>\n",
       "      <td>04D0BF86-23A4-498C-8DAD-1984B238772C0003</td>\n",
       "      <td>6</td>\n",
       "      <td>3</td>\n",
       "      <td>风味食堂</td>\n",
       "      <td>翠柏二舍</td>\n",
       "      <td>11:40</td>\n",
       "      <td>...</td>\n",
       "      <td>1</td>\n",
       "      <td>23</td>\n",
       "      <td>4</td>\n",
       "      <td>6</td>\n",
       "      <td>土木工程</td>\n",
       "      <td>2</td>\n",
       "      <td>2</td>\n",
       "      <td>2</td>\n",
       "      <td>1-2</td>\n",
       "      <td>1-2-7-8-9</td>\n",
       "    </tr>\n",
       "    <tr>\n",
       "      <th>3</th>\n",
       "      <td>3</td>\n",
       "      <td>04D0BF86-23A4-498C-8DAD-1984B238772C</td>\n",
       "      <td>Thu</td>\n",
       "      <td>2018/04/17</td>\n",
       "      <td>04D0BF86-23A4-498C-8DAD-1984B238772C0004</td>\n",
       "      <td>4</td>\n",
       "      <td>4</td>\n",
       "      <td>翠柏二舍</td>\n",
       "      <td>安中大楼B</td>\n",
       "      <td>14:15</td>\n",
       "      <td>...</td>\n",
       "      <td>1</td>\n",
       "      <td>23</td>\n",
       "      <td>4</td>\n",
       "      <td>6</td>\n",
       "      <td>土木工程</td>\n",
       "      <td>2</td>\n",
       "      <td>2</td>\n",
       "      <td>2</td>\n",
       "      <td>1-2</td>\n",
       "      <td>1-2-7-8-9</td>\n",
       "    </tr>\n",
       "    <tr>\n",
       "      <th>4</th>\n",
       "      <td>4</td>\n",
       "      <td>04D0BF86-23A4-498C-8DAD-1984B238772C</td>\n",
       "      <td>Thu</td>\n",
       "      <td>2018/04/17</td>\n",
       "      <td>04D0BF86-23A4-498C-8DAD-1984B238772C0005</td>\n",
       "      <td>2</td>\n",
       "      <td>5</td>\n",
       "      <td>安中大楼B</td>\n",
       "      <td>西2</td>\n",
       "      <td>14:37</td>\n",
       "      <td>...</td>\n",
       "      <td>1</td>\n",
       "      <td>23</td>\n",
       "      <td>4</td>\n",
       "      <td>6</td>\n",
       "      <td>土木工程</td>\n",
       "      <td>2</td>\n",
       "      <td>2</td>\n",
       "      <td>2</td>\n",
       "      <td>1-2</td>\n",
       "      <td>1-2-7-8-9</td>\n",
       "    </tr>\n",
       "  </tbody>\n",
       "</table>\n",
       "<p>5 rows × 38 columns</p>\n",
       "</div>"
      ],
      "text/plain": [
       "   Unnamed: 0                                  用户ID   星期          日期  \\\n",
       "0           0  04D0BF86-23A4-498C-8DAD-1984B238772C  Thu  2018/04/17   \n",
       "1           1  04D0BF86-23A4-498C-8DAD-1984B238772C  Thu  2018/04/17   \n",
       "2           2  04D0BF86-23A4-498C-8DAD-1984B238772C  Thu  2018/04/17   \n",
       "3           3  04D0BF86-23A4-498C-8DAD-1984B238772C  Thu  2018/04/17   \n",
       "4           4  04D0BF86-23A4-498C-8DAD-1984B238772C  Thu  2018/04/17   \n",
       "\n",
       "                                    Trip_ID  出行目的  第几次出行   出发地点   到达地点   出发时间  \\\n",
       "0  04D0BF86-23A4-498C-8DAD-1984B238772C0001     4      1   翠柏二舍  安中大楼B   7:40   \n",
       "1  04D0BF86-23A4-498C-8DAD-1984B238772C0002     3      2  安中大楼B   风味食堂  11:15   \n",
       "2  04D0BF86-23A4-498C-8DAD-1984B238772C0003     6      3   风味食堂   翠柏二舍  11:40   \n",
       "3  04D0BF86-23A4-498C-8DAD-1984B238772C0004     4      4   翠柏二舍  安中大楼B  14:15   \n",
       "4  04D0BF86-23A4-498C-8DAD-1984B238772C0005     2      5  安中大楼B     西2  14:37   \n",
       "\n",
       "     ...     性别  年龄  宿舍区  年级  专业大类  自行车保有  电动车保有  汽车保有  校内主要出行方式   校外主要出行方式  \n",
       "0    ...      1  23    4   6  土木工程      2      2     2       1-2  1-2-7-8-9  \n",
       "1    ...      1  23    4   6  土木工程      2      2     2       1-2  1-2-7-8-9  \n",
       "2    ...      1  23    4   6  土木工程      2      2     2       1-2  1-2-7-8-9  \n",
       "3    ...      1  23    4   6  土木工程      2      2     2       1-2  1-2-7-8-9  \n",
       "4    ...      1  23    4   6  土木工程      2      2     2       1-2  1-2-7-8-9  \n",
       "\n",
       "[5 rows x 38 columns]"
      ]
     },
     "execution_count": 51,
     "metadata": {},
     "output_type": "execute_result"
    }
   ],
   "source": [
    "path = r'D:\\Zhejiang University\\Graduate Project\\Data\\Data\\Cleaned\\trip_questionaire.csv'\n",
    "person_path = r'D:\\Zhejiang University\\Graduate Project\\Data\\Data\\person.csv'\n",
    "data = pd.read_csv(path)\n",
    "person = pd.read_csv(person_path)\n",
    "data.head()"
   ]
  },
  {
   "cell_type": "code",
   "execution_count": 52,
   "metadata": {},
   "outputs": [
    {
     "name": "stderr",
     "output_type": "stream",
     "text": [
      "C:\\Users\\yuhao\\Anaconda3\\lib\\site-packages\\seaborn\\categorical.py:1460: FutureWarning: remove_na is deprecated and is a private function. Do not use.\n",
      "  stat_data = remove_na(group_data)\n"
     ]
    },
    {
     "data": {
      "text/plain": [
       "<matplotlib.axes._subplots.AxesSubplot at 0x24ad8ffacf8>"
      ]
     },
     "execution_count": 52,
     "metadata": {},
     "output_type": "execute_result"
    },
    {
     "data": {
      "image/png": "[encoded data removed]",
      "text/plain": [
       "<matplotlib.figure.Figure at 0x24ad9239048>"
      ]
     },
     "metadata": {},
     "output_type": "display_data"
    }
   ],
   "source": [
    "sns.countplot(x='主要出行方式', data=data)"
   ]
  },
  {
   "cell_type": "markdown",
   "metadata": {},
   "source": [
    "## 预测主要出行方式\n",
    "- 主要出行方式为1,2,3,4,6,9\n",
    "- 选取特征：出行目的，出发时间，性别，年龄，宿舍取，年级，专业，自行车保有，电动车保有，汽车保有，校内主要出行方式，校外主要出行方式\n",
    "- 专业大类需要转化成数字\n",
    "- 出发时间需要按时间段划分\n",
    "- 校内主要出行方式和校外主要出行方式使用向量表示"
   ]
  },
  {
   "cell_type": "markdown",
   "metadata": {},
   "source": [
    "### 1.出发时间\n",
    "按照上课时间划分:6:30前,6:30-8:00,8:00-9:35,9:35-9:50,9:50-11:25,11:25-13:15,13:15-14:05,14:05-15:40,15:40-15:55,15:55-17:30,17:30-18:30,18:30-20:05,20:05-20:55,20:55-22:30,22:30-23:30,23:30-次日6:30"
   ]
  },
  {
   "cell_type": "code",
   "execution_count": 53,
   "metadata": {},
   "outputs": [],
   "source": [
    "time_list = ['6:31-8:00', '8:01-9:35', '9:36-9:50', '9:51-11:25', '11:26-13:15', '13:16-14:05', '14:06-15:40', '15:41-15:55', \n",
    "             '15:51-17:30', '17:31-18:30', '18:31-20:05', '20:06-20:55', '20:56-22:30', '22:31-23:30', '23:31-24:00', '0:01-6:30']\n",
    "\n",
    "def calculate_time(time_list):\n",
    "    discrete = list()\n",
    "    for time in time_list:\n",
    "        start, end = time.split('-')\n",
    "        start_hour, start_minute = start.split(':')\n",
    "        end_hour, end_minute = end.split(':')\n",
    "        start_minutes = int(start_hour) * 60 + int(start_minute)\n",
    "        end_minutes = int(end_hour) * 60 + int(end_minute)\n",
    "        discrete.append((start_minutes, end_minutes))\n",
    "    return discrete\n",
    "discrete = calculate_time(time_list)\n",
    "\n",
    "def discrete_time(time):\n",
    "    \"\"\"\n",
    "    把时间按划分好间隔分配\n",
    "    \"\"\"\n",
    "    time_list = ['6:31-8:00', '8:01-9:35', '9:36-9:50', '9:51-11:25', '11:26-13:15', '13:16-14:05', '14:06-15:40', '15:41-15:55', \n",
    "             '15:51-17:30', '17:31-18:30', '18:31-20:05', '20:06-20:55', '20:56-22:30', '22:31-23:30', '23:31-24:00', '0:01-6:30']\n",
    "    discrete = calculate_time(time_list)\n",
    "    hour, minute = time.split(':')\n",
    "    hour = int(hour)\n",
    "    minute = int(minute)\n",
    "    if hour == 24 and minute > 0:\n",
    "        hour -= 24\n",
    "    minutes = hour * 60 + minute\n",
    "    for i in range(len(discrete)):\n",
    "        if minutes >= discrete[i][0] and minutes <= discrete[i][1]:\n",
    "            return i"
   ]
  },
  {
   "cell_type": "code",
   "execution_count": 54,
   "metadata": {},
   "outputs": [
    {
     "data": {
      "text/plain": [
       "0       0\n",
       "1       3\n",
       "2       4\n",
       "3       6\n",
       "4       6\n",
       "5       8\n",
       "6      12\n",
       "7       0\n",
       "8       3\n",
       "9       4\n",
       "10      5\n",
       "11      8\n",
       "12      8\n",
       "13     10\n",
       "14     11\n",
       "15     12\n",
       "16      1\n",
       "17      1\n",
       "18      1\n",
       "19      1\n",
       "20      4\n",
       "21      4\n",
       "22      8\n",
       "23      8\n",
       "24      9\n",
       "25     10\n",
       "26      0\n",
       "27      1\n",
       "28      3\n",
       "29      8\n",
       "       ..\n",
       "584     1\n",
       "585     1\n",
       "586     4\n",
       "587     4\n",
       "588     7\n",
       "589     7\n",
       "590     9\n",
       "591     0\n",
       "592     0\n",
       "593     4\n",
       "594     5\n",
       "595     8\n",
       "596    10\n",
       "597    10\n",
       "598     0\n",
       "599     3\n",
       "600     5\n",
       "601     7\n",
       "602    12\n",
       "603     0\n",
       "604     1\n",
       "605     3\n",
       "606     4\n",
       "607    12\n",
       "608     0\n",
       "609     3\n",
       "610     4\n",
       "611     5\n",
       "612     7\n",
       "613    12\n",
       "Name: time, Length: 614, dtype: int32"
      ]
     },
     "execution_count": 54,
     "metadata": {},
     "output_type": "execute_result"
    }
   ],
   "source": [
    "data['time'] = data['出发时间'].apply(discrete_time)\n",
    "data['time'].astype('int')"
   ]
  },
  {
   "cell_type": "markdown",
   "metadata": {},
   "source": [
    "### 2.专业大类\n",
    "将专业大类转化编号"
   ]
  },
  {
   "cell_type": "code",
   "execution_count": 55,
   "metadata": {},
   "outputs": [
    {
     "name": "stderr",
     "output_type": "stream",
     "text": [
      "C:\\Users\\yuhao\\Anaconda3\\lib\\site-packages\\seaborn\\categorical.py:1460: FutureWarning: remove_na is deprecated and is a private function. Do not use.\n",
      "  stat_data = remove_na(group_data)\n"
     ]
    },
    {
     "data": {
      "text/plain": [
       "<matplotlib.axes._subplots.AxesSubplot at 0x24ad9df4978>"
      ]
     },
     "execution_count": 55,
     "metadata": {},
     "output_type": "execute_result"
    },
    {
     "data": {
      "image/png": "[encoded data removed]",
      "text/plain": [
       "<matplotlib.figure.Figure at 0x24ad89050f0>"
      ]
     },
     "metadata": {},
     "output_type": "display_data"
    }
   ],
   "source": [
    "ax = plt.subplots(figsize=(20, 5))\n",
    "sns.countplot(x='专业', data=person)"
   ]
  },
  {
   "cell_type": "code",
   "execution_count": 56,
   "metadata": {},
   "outputs": [
    {
     "name": "stdout",
     "output_type": "stream",
     "text": [
      "<class 'pandas.core.frame.DataFrame'>\n",
      "RangeIndex: 614 entries, 0 to 613\n",
      "Data columns (total 40 columns):\n",
      "Unnamed: 0    614 non-null int64\n",
      "用户ID          614 non-null object\n",
      "星期            614 non-null object\n",
      "日期            614 non-null object\n",
      "Trip_ID       614 non-null object\n",
      "出行目的          614 non-null int64\n",
      "第几次出行         614 non-null int64\n",
      "出发地点          614 non-null object\n",
      "到达地点          614 non-null object\n",
      "出发时间          614 non-null object\n",
      "达到时间          614 non-null object\n",
      "出发时           614 non-null int64\n",
      "出发分           614 non-null int64\n",
      "到达时           614 non-null int64\n",
      "到达分           614 non-null int64\n",
      "出行时间          614 non-null int64\n",
      "出行方式总数        614 non-null int64\n",
      "主要出行方式        614 non-null int64\n",
      "出行方式1         614 non-null int64\n",
      "用时1           614 non-null int64\n",
      "出行方式2         614 non-null object\n",
      "用时2           614 non-null object\n",
      "出行方式3         614 non-null object\n",
      "用时3           614 non-null object\n",
      "出行方式4         614 non-null object\n",
      "用时4           614 non-null object\n",
      "路线            614 non-null object\n",
      "其他            614 non-null object\n",
      "性别            614 non-null int64\n",
      "年龄            614 non-null int64\n",
      "宿舍区           614 non-null int64\n",
      "年级            614 non-null int64\n",
      "专业大类          614 non-null object\n",
      "自行车保有         614 non-null int64\n",
      "电动车保有         614 non-null int64\n",
      "汽车保有          614 non-null int64\n",
      "校内主要出行方式      614 non-null object\n",
      "校外主要出行方式      614 non-null object\n",
      "time          614 non-null int64\n",
      "major         614 non-null int64\n",
      "dtypes: int64(21), object(19)\n",
      "memory usage: 192.0+ KB\n",
      "None\n",
      "['交通工程' '交通运输' '俄语' '农林经济管理' '园林' '土木工程' '岩土工程' '建筑' '法语' '电气' '种作物遗传育种'\n",
      " '结构工程']\n"
     ]
    },
    {
     "name": "stderr",
     "output_type": "stream",
     "text": [
      "C:\\Users\\yuhao\\Anaconda3\\lib\\site-packages\\seaborn\\categorical.py:1460: FutureWarning: remove_na is deprecated and is a private function. Do not use.\n",
      "  stat_data = remove_na(group_data)\n",
      "C:\\Users\\yuhao\\Anaconda3\\lib\\site-packages\\sklearn\\preprocessing\\label.py:151: DeprecationWarning: The truth value of an empty array is ambiguous. Returning False, but in future this will result in an error. Use `array.size > 0` to check that an array is not empty.\n",
      "  if diff:\n"
     ]
    },
    {
     "data": {
      "image/png": "[encoded data removed]",
      "text/plain": [
       "<matplotlib.figure.Figure at 0x24ad8e14ba8>"
      ]
     },
     "metadata": {},
     "output_type": "display_data"
    }
   ],
   "source": [
    "# 初始化\n",
    "le = preprocessing.LabelEncoder()\n",
    "le.fit(data['专业大类'])\n",
    "data['major'] = le.transform(data['专业大类'])\n",
    "ax = plt.subplots(figsize=(20, 5))\n",
    "print(data.info())\n",
    "sns.countplot(x='major', data=data)\n",
    "print(le.inverse_transform(range(12)))"
   ]
  },
  {
   "cell_type": "markdown",
   "metadata": {},
   "source": [
    "### 3.主要出行方式\n",
    "- 校内主要出行方式6种，其中3可以表示为[0,0,1,0,0,0,0]\n",
    "- 校外主要出行方式10种，其中3-8-9可表示为[0,0,1,0,0,0,0,1,1,0]"
   ]
  },
  {
   "cell_type": "code",
   "execution_count": 77,
   "metadata": {},
   "outputs": [
    {
     "data": {
      "text/plain": [
       "Text(0.5,0,'校外主要出行方式')"
      ]
     },
     "execution_count": 77,
     "metadata": {},
     "output_type": "execute_result"
    },
    {
     "data": {
      "image/png": "[encoded data removed]",
      "text/plain": [
       "<matplotlib.figure.Figure at 0x24ad9587588>"
      ]
     },
     "metadata": {},
     "output_type": "display_data"
    }
   ],
   "source": [
    "main_mode_in_college = np.zeros(7)\n",
    "main_mode_out_college = np.zeros(11)\n",
    "main_in_college = np.zeros((data.shape[0], 7))\n",
    "main_out_college = np.zeros((data.shape[0], 11))\n",
    "lines = person.shape[0]\n",
    "for i in range(lines):\n",
    "    in_college, out_college = data.loc[i, ['校内主要出行方式', '校外主要出行方式']]\n",
    "    in_colleges = in_college.split('-')\n",
    "    out_colleges = out_college.split('-')\n",
    "    for mode in in_colleges:\n",
    "        main_mode_in_college[int(mode)] += 1\n",
    "        main_in_college[i, int(mode)] = 1\n",
    "    for mode in out_colleges:\n",
    "        main_mode_out_college[int(mode)] += 1\n",
    "        main_out_college[i, int(mode)] = 1\n",
    "    \n",
    "fig, (axis1, axis2) = plt.subplots(1, 2, figsize=(20, 5))\n",
    "axis1.bar(list(range(7))[1:], main_mode_in_college[1:], color='b')\n",
    "axis1.set_xlabel('校内主要出行方式')\n",
    "axis2.bar(list(range(11))[1:], main_mode_out_college[1:], color='g')\n",
    "axis2.set_xlabel('校外主要出行方式')"
   ]
  },
  {
   "cell_type": "code",
   "execution_count": 84,
   "metadata": {},
   "outputs": [
    {
     "data": {
      "text/html": [
       "<div>\n",
       "<style scoped>\n",
       "    .dataframe tbody tr th:only-of-type {\n",
       "        vertical-align: middle;\n",
       "    }\n",
       "\n",
       "    .dataframe tbody tr th {\n",
       "        vertical-align: top;\n",
       "    }\n",
       "\n",
       "    .dataframe thead th {\n",
       "        text-align: right;\n",
       "    }\n",
       "</style>\n",
       "<table border=\"1\" class=\"dataframe\">\n",
       "  <thead>\n",
       "    <tr style=\"text-align: right;\">\n",
       "      <th></th>\n",
       "      <th>Unnamed: 0</th>\n",
       "      <th>用户ID</th>\n",
       "      <th>星期</th>\n",
       "      <th>日期</th>\n",
       "      <th>Trip_ID</th>\n",
       "      <th>出行目的</th>\n",
       "      <th>第几次出行</th>\n",
       "      <th>出发地点</th>\n",
       "      <th>到达地点</th>\n",
       "      <th>出发时间</th>\n",
       "      <th>...</th>\n",
       "      <th>out1</th>\n",
       "      <th>out2</th>\n",
       "      <th>out3</th>\n",
       "      <th>out4</th>\n",
       "      <th>out5</th>\n",
       "      <th>out6</th>\n",
       "      <th>out7</th>\n",
       "      <th>out8</th>\n",
       "      <th>out9</th>\n",
       "      <th>out10</th>\n",
       "    </tr>\n",
       "  </thead>\n",
       "  <tbody>\n",
       "    <tr>\n",
       "      <th>0</th>\n",
       "      <td>0</td>\n",
       "      <td>04D0BF86-23A4-498C-8DAD-1984B238772C</td>\n",
       "      <td>Thu</td>\n",
       "      <td>2018/04/17</td>\n",
       "      <td>04D0BF86-23A4-498C-8DAD-1984B238772C0001</td>\n",
       "      <td>4</td>\n",
       "      <td>1</td>\n",
       "      <td>翠柏二舍</td>\n",
       "      <td>安中大楼B</td>\n",
       "      <td>7:40</td>\n",
       "      <td>...</td>\n",
       "      <td>1.0</td>\n",
       "      <td>1.0</td>\n",
       "      <td>0.0</td>\n",
       "      <td>0.0</td>\n",
       "      <td>0.0</td>\n",
       "      <td>0.0</td>\n",
       "      <td>1.0</td>\n",
       "      <td>1.0</td>\n",
       "      <td>1.0</td>\n",
       "      <td>0.0</td>\n",
       "    </tr>\n",
       "    <tr>\n",
       "      <th>1</th>\n",
       "      <td>1</td>\n",
       "      <td>04D0BF86-23A4-498C-8DAD-1984B238772C</td>\n",
       "      <td>Thu</td>\n",
       "      <td>2018/04/17</td>\n",
       "      <td>04D0BF86-23A4-498C-8DAD-1984B238772C0002</td>\n",
       "      <td>3</td>\n",
       "      <td>2</td>\n",
       "      <td>安中大楼B</td>\n",
       "      <td>风味食堂</td>\n",
       "      <td>11:15</td>\n",
       "      <td>...</td>\n",
       "      <td>1.0</td>\n",
       "      <td>1.0</td>\n",
       "      <td>0.0</td>\n",
       "      <td>0.0</td>\n",
       "      <td>0.0</td>\n",
       "      <td>0.0</td>\n",
       "      <td>1.0</td>\n",
       "      <td>1.0</td>\n",
       "      <td>1.0</td>\n",
       "      <td>0.0</td>\n",
       "    </tr>\n",
       "    <tr>\n",
       "      <th>2</th>\n",
       "      <td>2</td>\n",
       "      <td>04D0BF86-23A4-498C-8DAD-1984B238772C</td>\n",
       "      <td>Thu</td>\n",
       "      <td>2018/04/17</td>\n",
       "      <td>04D0BF86-23A4-498C-8DAD-1984B238772C0003</td>\n",
       "      <td>6</td>\n",
       "      <td>3</td>\n",
       "      <td>风味食堂</td>\n",
       "      <td>翠柏二舍</td>\n",
       "      <td>11:40</td>\n",
       "      <td>...</td>\n",
       "      <td>1.0</td>\n",
       "      <td>1.0</td>\n",
       "      <td>0.0</td>\n",
       "      <td>0.0</td>\n",
       "      <td>0.0</td>\n",
       "      <td>0.0</td>\n",
       "      <td>1.0</td>\n",
       "      <td>1.0</td>\n",
       "      <td>1.0</td>\n",
       "      <td>0.0</td>\n",
       "    </tr>\n",
       "    <tr>\n",
       "      <th>3</th>\n",
       "      <td>3</td>\n",
       "      <td>04D0BF86-23A4-498C-8DAD-1984B238772C</td>\n",
       "      <td>Thu</td>\n",
       "      <td>2018/04/17</td>\n",
       "      <td>04D0BF86-23A4-498C-8DAD-1984B238772C0004</td>\n",
       "      <td>4</td>\n",
       "      <td>4</td>\n",
       "      <td>翠柏二舍</td>\n",
       "      <td>安中大楼B</td>\n",
       "      <td>14:15</td>\n",
       "      <td>...</td>\n",
       "      <td>1.0</td>\n",
       "      <td>1.0</td>\n",
       "      <td>0.0</td>\n",
       "      <td>0.0</td>\n",
       "      <td>0.0</td>\n",
       "      <td>0.0</td>\n",
       "      <td>1.0</td>\n",
       "      <td>1.0</td>\n",
       "      <td>1.0</td>\n",
       "      <td>0.0</td>\n",
       "    </tr>\n",
       "    <tr>\n",
       "      <th>4</th>\n",
       "      <td>4</td>\n",
       "      <td>04D0BF86-23A4-498C-8DAD-1984B238772C</td>\n",
       "      <td>Thu</td>\n",
       "      <td>2018/04/17</td>\n",
       "      <td>04D0BF86-23A4-498C-8DAD-1984B238772C0005</td>\n",
       "      <td>2</td>\n",
       "      <td>5</td>\n",
       "      <td>安中大楼B</td>\n",
       "      <td>西2</td>\n",
       "      <td>14:37</td>\n",
       "      <td>...</td>\n",
       "      <td>1.0</td>\n",
       "      <td>1.0</td>\n",
       "      <td>0.0</td>\n",
       "      <td>0.0</td>\n",
       "      <td>0.0</td>\n",
       "      <td>0.0</td>\n",
       "      <td>1.0</td>\n",
       "      <td>1.0</td>\n",
       "      <td>1.0</td>\n",
       "      <td>0.0</td>\n",
       "    </tr>\n",
       "  </tbody>\n",
       "</table>\n",
       "<p>5 rows × 57 columns</p>\n",
       "</div>"
      ],
      "text/plain": [
       "   Unnamed: 0                                  用户ID   星期          日期  \\\n",
       "0           0  04D0BF86-23A4-498C-8DAD-1984B238772C  Thu  2018/04/17   \n",
       "1           1  04D0BF86-23A4-498C-8DAD-1984B238772C  Thu  2018/04/17   \n",
       "2           2  04D0BF86-23A4-498C-8DAD-1984B238772C  Thu  2018/04/17   \n",
       "3           3  04D0BF86-23A4-498C-8DAD-1984B238772C  Thu  2018/04/17   \n",
       "4           4  04D0BF86-23A4-498C-8DAD-1984B238772C  Thu  2018/04/17   \n",
       "\n",
       "                                    Trip_ID  出行目的  第几次出行   出发地点   到达地点   出发时间  \\\n",
       "0  04D0BF86-23A4-498C-8DAD-1984B238772C0001     4      1   翠柏二舍  安中大楼B   7:40   \n",
       "1  04D0BF86-23A4-498C-8DAD-1984B238772C0002     3      2  安中大楼B   风味食堂  11:15   \n",
       "2  04D0BF86-23A4-498C-8DAD-1984B238772C0003     6      3   风味食堂   翠柏二舍  11:40   \n",
       "3  04D0BF86-23A4-498C-8DAD-1984B238772C0004     4      4   翠柏二舍  安中大楼B  14:15   \n",
       "4  04D0BF86-23A4-498C-8DAD-1984B238772C0005     2      5  安中大楼B     西2  14:37   \n",
       "\n",
       "   ...   out1  out2  out3  out4  out5  out6  out7  out8  out9  out10  \n",
       "0  ...    1.0   1.0   0.0   0.0   0.0   0.0   1.0   1.0   1.0    0.0  \n",
       "1  ...    1.0   1.0   0.0   0.0   0.0   0.0   1.0   1.0   1.0    0.0  \n",
       "2  ...    1.0   1.0   0.0   0.0   0.0   0.0   1.0   1.0   1.0    0.0  \n",
       "3  ...    1.0   1.0   0.0   0.0   0.0   0.0   1.0   1.0   1.0    0.0  \n",
       "4  ...    1.0   1.0   0.0   0.0   0.0   0.0   1.0   1.0   1.0    0.0  \n",
       "\n",
       "[5 rows x 57 columns]"
      ]
     },
     "execution_count": 84,
     "metadata": {},
     "output_type": "execute_result"
    }
   ],
   "source": [
    "for i in range(6):\n",
    "    name = 'in' + str(i+1)\n",
    "    data[name] = main_in_college[:, i+1]\n",
    "for j in range(10):\n",
    "    name = 'out' + str(j+1)\n",
    "    data[name] = main_out_college[:, j+1]\n",
    "data.head()"
   ]
  },
  {
   "cell_type": "markdown",
   "metadata": {},
   "source": [
    "### 4.处理年龄\n",
    "- 使年龄从1开始"
   ]
  },
  {
   "cell_type": "code",
   "execution_count": 64,
   "metadata": {},
   "outputs": [
    {
     "name": "stderr",
     "output_type": "stream",
     "text": [
      "C:\\Users\\yuhao\\Anaconda3\\lib\\site-packages\\seaborn\\categorical.py:1460: FutureWarning: remove_na is deprecated and is a private function. Do not use.\n",
      "  stat_data = remove_na(group_data)\n"
     ]
    },
    {
     "data": {
      "text/plain": [
       "<matplotlib.axes._subplots.AxesSubplot at 0x24ad95c1f28>"
      ]
     },
     "execution_count": 64,
     "metadata": {},
     "output_type": "execute_result"
    },
    {
     "data": {
      "image/png": "[encoded data removed]",
      "text/plain": [
       "<matplotlib.figure.Figure at 0x24ada0c3b38>"
      ]
     },
     "metadata": {},
     "output_type": "display_data"
    }
   ],
   "source": [
    "ax = plt.subplots(figsize=(10 ,5))\n",
    "sns.countplot(x='年龄', data=person)"
   ]
  },
  {
   "cell_type": "code",
   "execution_count": 65,
   "metadata": {},
   "outputs": [
    {
     "name": "stdout",
     "output_type": "stream",
     "text": [
      "<class 'pandas.core.frame.DataFrame'>\n",
      "RangeIndex: 614 entries, 0 to 613\n",
      "Data columns (total 41 columns):\n",
      "Unnamed: 0    614 non-null int64\n",
      "用户ID          614 non-null object\n",
      "星期            614 non-null object\n",
      "日期            614 non-null object\n",
      "Trip_ID       614 non-null object\n",
      "出行目的          614 non-null int64\n",
      "第几次出行         614 non-null int64\n",
      "出发地点          614 non-null object\n",
      "到达地点          614 non-null object\n",
      "出发时间          614 non-null object\n",
      "达到时间          614 non-null object\n",
      "出发时           614 non-null int64\n",
      "出发分           614 non-null int64\n",
      "到达时           614 non-null int64\n",
      "到达分           614 non-null int64\n",
      "出行时间          614 non-null int64\n",
      "出行方式总数        614 non-null int64\n",
      "主要出行方式        614 non-null int64\n",
      "出行方式1         614 non-null int64\n",
      "用时1           614 non-null int64\n",
      "出行方式2         614 non-null object\n",
      "用时2           614 non-null object\n",
      "出行方式3         614 non-null object\n",
      "用时3           614 non-null object\n",
      "出行方式4         614 non-null object\n",
      "用时4           614 non-null object\n",
      "路线            614 non-null object\n",
      "其他            614 non-null object\n",
      "性别            614 non-null int64\n",
      "年龄            614 non-null int64\n",
      "宿舍区           614 non-null int64\n",
      "年级            614 non-null int64\n",
      "专业大类          614 non-null object\n",
      "自行车保有         614 non-null int64\n",
      "电动车保有         614 non-null int64\n",
      "汽车保有          614 non-null int64\n",
      "校内主要出行方式      614 non-null object\n",
      "校外主要出行方式      614 non-null object\n",
      "time          614 non-null int64\n",
      "major         614 non-null int64\n",
      "age           614 non-null int64\n",
      "dtypes: int64(22), object(19)\n",
      "memory usage: 196.8+ KB\n"
     ]
    }
   ],
   "source": [
    "def get_age(age):\n",
    "    new_age = int(age) - 18\n",
    "    return new_age\n",
    "data['age'] = data['年龄'].apply(get_age)\n",
    "data.info()"
   ]
  },
  {
   "cell_type": "markdown",
   "metadata": {},
   "source": [
    "## 生成训练数据\n",
    "- 整合特征变量"
   ]
  },
  {
   "cell_type": "code",
   "execution_count": 85,
   "metadata": {},
   "outputs": [
    {
     "data": {
      "text/html": [
       "<div>\n",
       "<style scoped>\n",
       "    .dataframe tbody tr th:only-of-type {\n",
       "        vertical-align: middle;\n",
       "    }\n",
       "\n",
       "    .dataframe tbody tr th {\n",
       "        vertical-align: top;\n",
       "    }\n",
       "\n",
       "    .dataframe thead th {\n",
       "        text-align: right;\n",
       "    }\n",
       "</style>\n",
       "<table border=\"1\" class=\"dataframe\">\n",
       "  <thead>\n",
       "    <tr style=\"text-align: right;\">\n",
       "      <th></th>\n",
       "      <th>出行目的</th>\n",
       "      <th>time</th>\n",
       "      <th>性别</th>\n",
       "      <th>age</th>\n",
       "      <th>宿舍区</th>\n",
       "      <th>年级</th>\n",
       "      <th>major</th>\n",
       "      <th>自行车保有</th>\n",
       "      <th>电动车保有</th>\n",
       "      <th>汽车保有</th>\n",
       "      <th>...</th>\n",
       "      <th>out2</th>\n",
       "      <th>out3</th>\n",
       "      <th>out4</th>\n",
       "      <th>out5</th>\n",
       "      <th>out6</th>\n",
       "      <th>out7</th>\n",
       "      <th>out8</th>\n",
       "      <th>out9</th>\n",
       "      <th>out10</th>\n",
       "      <th>主要出行方式</th>\n",
       "    </tr>\n",
       "  </thead>\n",
       "  <tbody>\n",
       "    <tr>\n",
       "      <th>0</th>\n",
       "      <td>4</td>\n",
       "      <td>0</td>\n",
       "      <td>1</td>\n",
       "      <td>5</td>\n",
       "      <td>4</td>\n",
       "      <td>6</td>\n",
       "      <td>5</td>\n",
       "      <td>2</td>\n",
       "      <td>2</td>\n",
       "      <td>2</td>\n",
       "      <td>...</td>\n",
       "      <td>1.0</td>\n",
       "      <td>0.0</td>\n",
       "      <td>0.0</td>\n",
       "      <td>0.0</td>\n",
       "      <td>0.0</td>\n",
       "      <td>1.0</td>\n",
       "      <td>1.0</td>\n",
       "      <td>1.0</td>\n",
       "      <td>0.0</td>\n",
       "      <td>1</td>\n",
       "    </tr>\n",
       "    <tr>\n",
       "      <th>1</th>\n",
       "      <td>3</td>\n",
       "      <td>3</td>\n",
       "      <td>1</td>\n",
       "      <td>5</td>\n",
       "      <td>4</td>\n",
       "      <td>6</td>\n",
       "      <td>5</td>\n",
       "      <td>2</td>\n",
       "      <td>2</td>\n",
       "      <td>2</td>\n",
       "      <td>...</td>\n",
       "      <td>1.0</td>\n",
       "      <td>0.0</td>\n",
       "      <td>0.0</td>\n",
       "      <td>0.0</td>\n",
       "      <td>0.0</td>\n",
       "      <td>1.0</td>\n",
       "      <td>1.0</td>\n",
       "      <td>1.0</td>\n",
       "      <td>0.0</td>\n",
       "      <td>1</td>\n",
       "    </tr>\n",
       "    <tr>\n",
       "      <th>2</th>\n",
       "      <td>6</td>\n",
       "      <td>4</td>\n",
       "      <td>1</td>\n",
       "      <td>5</td>\n",
       "      <td>4</td>\n",
       "      <td>6</td>\n",
       "      <td>5</td>\n",
       "      <td>2</td>\n",
       "      <td>2</td>\n",
       "      <td>2</td>\n",
       "      <td>...</td>\n",
       "      <td>1.0</td>\n",
       "      <td>0.0</td>\n",
       "      <td>0.0</td>\n",
       "      <td>0.0</td>\n",
       "      <td>0.0</td>\n",
       "      <td>1.0</td>\n",
       "      <td>1.0</td>\n",
       "      <td>1.0</td>\n",
       "      <td>0.0</td>\n",
       "      <td>1</td>\n",
       "    </tr>\n",
       "    <tr>\n",
       "      <th>3</th>\n",
       "      <td>4</td>\n",
       "      <td>6</td>\n",
       "      <td>1</td>\n",
       "      <td>5</td>\n",
       "      <td>4</td>\n",
       "      <td>6</td>\n",
       "      <td>5</td>\n",
       "      <td>2</td>\n",
       "      <td>2</td>\n",
       "      <td>2</td>\n",
       "      <td>...</td>\n",
       "      <td>1.0</td>\n",
       "      <td>0.0</td>\n",
       "      <td>0.0</td>\n",
       "      <td>0.0</td>\n",
       "      <td>0.0</td>\n",
       "      <td>1.0</td>\n",
       "      <td>1.0</td>\n",
       "      <td>1.0</td>\n",
       "      <td>0.0</td>\n",
       "      <td>1</td>\n",
       "    </tr>\n",
       "    <tr>\n",
       "      <th>4</th>\n",
       "      <td>2</td>\n",
       "      <td>6</td>\n",
       "      <td>1</td>\n",
       "      <td>5</td>\n",
       "      <td>4</td>\n",
       "      <td>6</td>\n",
       "      <td>5</td>\n",
       "      <td>2</td>\n",
       "      <td>2</td>\n",
       "      <td>2</td>\n",
       "      <td>...</td>\n",
       "      <td>1.0</td>\n",
       "      <td>0.0</td>\n",
       "      <td>0.0</td>\n",
       "      <td>0.0</td>\n",
       "      <td>0.0</td>\n",
       "      <td>1.0</td>\n",
       "      <td>1.0</td>\n",
       "      <td>1.0</td>\n",
       "      <td>0.0</td>\n",
       "      <td>1</td>\n",
       "    </tr>\n",
       "  </tbody>\n",
       "</table>\n",
       "<p>5 rows × 27 columns</p>\n",
       "</div>"
      ],
      "text/plain": [
       "   出行目的  time  性别  age  宿舍区  年级  major  自行车保有  电动车保有  汽车保有   ...    out2  \\\n",
       "0     4     0   1    5    4   6      5      2      2     2   ...     1.0   \n",
       "1     3     3   1    5    4   6      5      2      2     2   ...     1.0   \n",
       "2     6     4   1    5    4   6      5      2      2     2   ...     1.0   \n",
       "3     4     6   1    5    4   6      5      2      2     2   ...     1.0   \n",
       "4     2     6   1    5    4   6      5      2      2     2   ...     1.0   \n",
       "\n",
       "   out3  out4  out5  out6  out7  out8  out9  out10  主要出行方式  \n",
       "0   0.0   0.0   0.0   0.0   1.0   1.0   1.0    0.0       1  \n",
       "1   0.0   0.0   0.0   0.0   1.0   1.0   1.0    0.0       1  \n",
       "2   0.0   0.0   0.0   0.0   1.0   1.0   1.0    0.0       1  \n",
       "3   0.0   0.0   0.0   0.0   1.0   1.0   1.0    0.0       1  \n",
       "4   0.0   0.0   0.0   0.0   1.0   1.0   1.0    0.0       1  \n",
       "\n",
       "[5 rows x 27 columns]"
      ]
     },
     "execution_count": 85,
     "metadata": {},
     "output_type": "execute_result"
    }
   ],
   "source": [
    "train_data = data.loc[:, ['出行目的', 'time', '性别', 'age', '宿舍区', '年级', 'major', '自行车保有', '电动车保有', '汽车保有',\n",
    "                          'in1', 'in2', 'in3', 'in4', 'in5', 'in6',\n",
    "                          'out1', 'out2', 'out3', 'out4', 'out5', 'out6', 'out7', 'out8', 'out9', 'out10',\n",
    "                          '主要出行方式']]\n",
    "train_data.head()"
   ]
  },
  {
   "cell_type": "code",
   "execution_count": 92,
   "metadata": {},
   "outputs": [],
   "source": [
    "# 特征还要加上校内外主要出行方式的向量表示方法\n",
    "y = np.array(train_data['主要出行方式'])\n",
    "y.astype('int')\n",
    "\n",
    "x = np.array(train_data.loc[:, ['出行目的', 'time', '性别', 'age', '宿舍区', '年级', 'major', '自行车保有', '电动车保有', '汽车保有',\n",
    "                          'in1', 'in2', 'in3', 'in4', 'in5', 'in6',\n",
    "                          'out1', 'out2', 'out3', 'out4', 'out5', 'out6', 'out7', 'out8', 'out9', 'out10',]])\n",
    "x.astype('int')\n",
    "\n",
    "x_train, x_test, y_train, y_test = train_test_split(x, y, test_size=0.25, random_state=0)"
   ]
  },
  {
   "cell_type": "code",
   "execution_count": 96,
   "metadata": {},
   "outputs": [
    {
     "name": "stdout",
     "output_type": "stream",
     "text": [
      "(460,)\n",
      "###############################################\n",
      "(460, 26)\n"
     ]
    }
   ],
   "source": [
    "print(y_train.shape)\n",
    "print('###############################################')\n",
    "print(x_train.shape)"
   ]
  },
  {
   "cell_type": "markdown",
   "metadata": {},
   "source": [
    "### 逻辑回归"
   ]
  },
  {
   "cell_type": "code",
   "execution_count": 131,
   "metadata": {},
   "outputs": [
    {
     "name": "stdout",
     "output_type": "stream",
     "text": [
      "0.6883116883116883\n",
      "[[-2.89644615e-02  1.05237995e-01  1.45720268e-01 -1.03237615e+00\n",
      "   4.55350822e-01  1.40568951e+00 -3.04189665e-02  2.66407792e-01\n",
      "  -9.54460173e-02  0.00000000e+00  0.00000000e+00 -1.24043687e-01\n",
      "   0.00000000e+00  0.00000000e+00  0.00000000e+00  0.00000000e+00\n",
      "   2.62013958e-01  1.29543353e-01  0.00000000e+00  0.00000000e+00\n",
      "   0.00000000e+00  0.00000000e+00 -1.39217889e-01 -1.14342878e-01\n",
      "  -3.49210734e-05  0.00000000e+00]\n",
      " [ 1.08612362e-02 -3.08914904e-02 -2.77057418e-01  5.51146544e-01\n",
      "  -2.75329294e-01 -1.16369622e+00  1.87088571e-01 -3.68788592e-01\n",
      "   1.06441962e+00  0.00000000e+00  0.00000000e+00  6.26252090e-02\n",
      "   0.00000000e+00  2.71545418e-01  0.00000000e+00  0.00000000e+00\n",
      "  -6.24059420e-02 -6.83931465e-02  0.00000000e+00  0.00000000e+00\n",
      "   0.00000000e+00  0.00000000e+00  1.84959817e-06  1.98336702e-07\n",
      "   1.04226952e-02  0.00000000e+00]\n",
      " [ 0.00000000e+00 -2.67792667e-01  6.30369155e-01  8.79119049e-02\n",
      "  -9.47424194e-01  1.01896362e+00 -4.63639237e-01 -6.35997417e-01\n",
      "  -1.53380264e+00  0.00000000e+00  0.00000000e+00 -1.17524272e-02\n",
      "   0.00000000e+00 -2.09748945e-01  0.00000000e+00  0.00000000e+00\n",
      "   0.00000000e+00  0.00000000e+00  0.00000000e+00  0.00000000e+00\n",
      "   0.00000000e+00  0.00000000e+00 -1.24873717e-02 -1.59962201e-03\n",
      "  -7.44294274e-02  0.00000000e+00]\n",
      " [ 0.00000000e+00 -2.15043926e-01  2.83926769e-02  0.00000000e+00\n",
      "   0.00000000e+00 -3.20238264e-01  0.00000000e+00  7.86615777e-02\n",
      "   0.00000000e+00  0.00000000e+00  0.00000000e+00  0.00000000e+00\n",
      "   0.00000000e+00  0.00000000e+00  0.00000000e+00  0.00000000e+00\n",
      "   0.00000000e+00  0.00000000e+00  0.00000000e+00  0.00000000e+00\n",
      "   0.00000000e+00  0.00000000e+00  0.00000000e+00  0.00000000e+00\n",
      "   0.00000000e+00  0.00000000e+00]\n",
      " [-5.89709839e-02  0.00000000e+00  5.25494455e-01  0.00000000e+00\n",
      "   0.00000000e+00 -5.56048554e-01  0.00000000e+00  4.00893027e-01\n",
      "   5.16571146e-02  0.00000000e+00 -8.56050942e-01  2.31135427e-01\n",
      "   0.00000000e+00 -9.86703787e-03  0.00000000e+00  0.00000000e+00\n",
      "   0.00000000e+00  0.00000000e+00  0.00000000e+00  0.00000000e+00\n",
      "   0.00000000e+00  0.00000000e+00  1.70124775e-01  3.06765901e-01\n",
      "   3.47980103e-01  0.00000000e+00]\n",
      " [-1.57498487e-01  7.66139919e-02  5.72584223e-01  4.33665914e-01\n",
      "  -5.17264271e-01  0.00000000e+00  5.05511565e-02  0.00000000e+00\n",
      "   2.83943328e-01  0.00000000e+00  0.00000000e+00 -5.54951579e-02\n",
      "   0.00000000e+00 -8.31758922e-03  0.00000000e+00  0.00000000e+00\n",
      "   0.00000000e+00  0.00000000e+00  0.00000000e+00  0.00000000e+00\n",
      "   0.00000000e+00  0.00000000e+00 -3.64186808e-02 -1.10418971e-02\n",
      "  -6.15128255e-02  0.00000000e+00]]\n"
     ]
    }
   ],
   "source": [
    "lr = LogisticRegression(C=1.0, penalty='l1', tol=0.0001, solver='liblinear')\n",
    "sc = StandardScaler()\n",
    "sc.fit(x_train)\n",
    "x_train_std = sc.transform(x_train)\n",
    "x_test_std = sc.transform(x_test)\n",
    "lr.fit(x_train_std, y_train)\n",
    "score_of_lr = lr.score(x_test_std, y_test)\n",
    "result = lr.predict(x_test_std)\n",
    "prob = lr.predict_proba(x_test_std)\n",
    "print(score_of_lr)\n",
    "print(lr.coef_)"
   ]
  },
  {
   "cell_type": "code",
   "execution_count": 126,
   "metadata": {},
   "outputs": [
    {
     "data": {
      "text/plain": [
       "LogisticRegression(C=1.0, class_weight=None, dual=False, fit_intercept=True,\n",
       "          intercept_scaling=1, max_iter=100, multi_class='ovr', n_jobs=1,\n",
       "          penalty='l1', random_state=None, solver='liblinear', tol=0.0001,\n",
       "          verbose=0, warm_start=False)"
      ]
     },
     "execution_count": 126,
     "metadata": {},
     "output_type": "execute_result"
    }
   ],
   "source": [
    "lr.sparsify()"
   ]
  },
  {
   "cell_type": "markdown",
   "metadata": {},
   "source": [
    "### 支持向量机"
   ]
  },
  {
   "cell_type": "code",
   "execution_count": 135,
   "metadata": {},
   "outputs": [
    {
     "name": "stdout",
     "output_type": "stream",
     "text": [
      "0.6883116883116883\n",
      "[[-0.01575023  0.0501      0.08282678 -0.44572219  0.18076417  0.6143426\n",
      "  -0.03562336  0.10813194 -0.05157502  0.          0.06018393 -0.06382331\n",
      "   0.          0.00457414  0.          0.          0.07366926  0.07366926\n",
      "   0.          0.          0.          0.         -0.06382331 -0.06382331\n",
      "  -0.06382331  0.        ]\n",
      " [ 0.01059499 -0.02138551 -0.13035955  0.3103577  -0.11437095 -0.54098495\n",
      "   0.06959868 -0.1247619   0.32375814  0.          0.03007639  0.01757265\n",
      "   0.          0.08595338  0.          0.         -0.03387477 -0.03387477\n",
      "   0.          0.          0.          0.          0.01757265  0.01757265\n",
      "   0.01757265  0.        ]\n",
      " [-0.0033324  -0.08305871  0.3257316  -0.08329902 -0.46362674  0.69933469\n",
      "  -0.31931343 -0.36268921 -0.57667019  0.         -0.01909924 -0.00936266\n",
      "   0.         -0.09981263  0.          0.          0.05972607  0.05972607\n",
      "   0.          0.          0.          0.         -0.00936266 -0.00936266\n",
      "  -0.00936266  0.        ]\n",
      " [-0.01562338 -0.10044977 -0.03305809  0.00623354 -0.04916596 -0.13082561\n",
      "  -0.09831214  0.13984995 -0.00238059  0.         -0.00873275  0.01342389\n",
      "   0.         -0.00085576  0.          0.         -0.01052723 -0.01052723\n",
      "   0.          0.          0.          0.          0.01342389  0.01342389\n",
      "   0.01342389  0.        ]\n",
      " [-0.01718759 -0.01824715  0.05023114 -0.0786139   0.09699435 -0.09958086\n",
      "  -0.09991913  0.09269506 -0.01199137  0.         -0.13316885  0.09217956\n",
      "   0.         -0.12293187  0.          0.         -0.06769452 -0.06769452\n",
      "   0.          0.          0.          0.          0.09217956  0.09217956\n",
      "   0.09217956  0.        ]\n",
      " [-0.01690943  0.01356148  0.08160955  0.17914051 -0.10508714 -0.11906371\n",
      "   0.02197506  0.01002625  0.06549909  0.          0.03234267 -0.01681998\n",
      "   0.          0.01243699  0.          0.          0.03115855  0.03115855\n",
      "   0.          0.          0.          0.         -0.01681998 -0.01681998\n",
      "  -0.01681998  0.        ]]\n"
     ]
    }
   ],
   "source": [
    "from sklearn.svm import LinearSVC\n",
    "lsvc = LinearSVC(random_state=0)\n",
    "lsvc.fit(x_train_std, y_train)\n",
    "score_of_svc = lsvc.score(x_test_std, y_test)\n",
    "print(score_of_svc)\n",
    "print(lsvc.coef_)"
   ]
  },
  {
   "cell_type": "markdown",
   "metadata": {},
   "source": [
    "### 随机森林"
   ]
  },
  {
   "cell_type": "code",
   "execution_count": 152,
   "metadata": {},
   "outputs": [
    {
     "name": "stdout",
     "output_type": "stream",
     "text": [
      "0.7272727272727273\n"
     ]
    },
    {
     "data": {
      "text/plain": [
       "[<matplotlib.lines.Line2D at 0x24ad9e5a828>]"
      ]
     },
     "execution_count": 152,
     "metadata": {},
     "output_type": "execute_result"
    },
    {
     "data": {
      "image/png": "[encoded data removed]",
      "text/plain": [
       "<matplotlib.figure.Figure at 0x24ad9b4a278>"
      ]
     },
     "metadata": {},
     "output_type": "display_data"
    }
   ],
   "source": [
    "from sklearn.ensemble import RandomForestClassifier\n",
    "rfc = RandomForestClassifier(max_depth=6, random_state=0)\n",
    "rfc.fit(x_train_std, y_train)\n",
    "score_of_rfc = rfc.score(x_test_std, y_test)\n",
    "print(score_of_rfc)\n",
    "scores = [0]\n",
    "for i in range(1, 26):\n",
    "    rfc = RandomForestClassifier(max_depth=i, random_state=0)\n",
    "    rfc.fit(x_train_std, y_train)\n",
    "    scores.append(rfc.score(x_test_std, y_test))\n",
    "plt.plot(list(range(26))[1:], scores[1:], 'bo-')"
   ]
  },
  {
   "cell_type": "markdown",
   "metadata": {},
   "source": [
    "当max_depth深度为8是，正确率最高"
   ]
  },
  {
   "cell_type": "code",
   "execution_count": 153,
   "metadata": {},
   "outputs": [
    {
     "name": "stdout",
     "output_type": "stream",
     "text": [
      "0.7337662337662337\n",
      "[0.13165727 0.18295385 0.04160035 0.20655677 0.14726657 0.03935866\n",
      " 0.08914537 0.05939801 0.06726423 0.         0.00224129 0.00315125\n",
      " 0.         0.01058301 0.         0.         0.00280652 0.00789778\n",
      " 0.         0.         0.         0.         0.00116759 0.00259816\n",
      " 0.00435331 0.        ]\n"
     ]
    }
   ],
   "source": [
    "rfc = RandomForestClassifier(max_depth=8, random_state=0)\n",
    "rfc.fit(x_train_std, y_train)\n",
    "score_of_rfc = rfc.score(x_test_std, y_test)\n",
    "print(score_of_rfc)\n",
    "print(rfc.feature_importances_)"
   ]
  },
  {
   "cell_type": "code",
   "execution_count": null,
   "metadata": {},
   "outputs": [],
   "source": []
  }
 ],
 "metadata": {
  "kernelspec": {
   "display_name": "Python 3",
   "language": "python",
   "name": "python3"
  },
  "language_info": {
   "codemirror_mode": {
    "name": "ipython",
    "version": 3
   },
   "file_extension": ".py",
   "mimetype": "text/x-python",
   "name": "python",
   "nbconvert_exporter": "python",
   "pygments_lexer": "ipython3",
   "version": "3.6.4"
  }
 },
 "nbformat": 4,
 "nbformat_minor": 1
}
